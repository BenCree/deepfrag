{
 "cells": [
  {
   "cell_type": "markdown",
   "id": "fa4cfb89-db1b-4983-84e8-06dfe297c129",
   "metadata": {},
   "source": [
    "All i want to do is change an atom's element, after getting it's index from visual inspection"
   ]
  },
  {
   "cell_type": "code",
   "execution_count": 1,
   "id": "e19844fd-f6a4-4bbd-87ba-f1976d72c1bd",
   "metadata": {},
   "outputs": [],
   "source": [
    "import torch\n",
    "import prody\n",
    "import py3Dmol\n",
    "from rdkit import Chem\n",
    "from rdkit.Chem import Draw, AllChem\n",
    "from rdkit.Chem.Draw import IPythonConsole\n",
    "Draw.IPythonConsole.ipython_3d = True\n",
    "import numpy as np\n",
    "import time\n",
    "import h5py\n",
    "from tqdm.notebook import tqdm\n",
    "import matplotlib.pyplot as plt\n",
    "%matplotlib inline"
   ]
  },
  {
   "cell_type": "code",
   "execution_count": 2,
   "id": "19d879c1-8eba-4f1e-a00e-9559c089c635",
   "metadata": {},
   "outputs": [],
   "source": [
    "from leadopt.model_conf import LeadoptModel, DIST_FN\n",
    "from leadopt import grid_util\n",
    "from leadopt.data_util import REC_TYPER, LIG_TYPER\n",
    "from leadopt import util"
   ]
  },
  {
   "cell_type": "code",
   "execution_count": null,
   "id": "2c4429b8-5057-47ad-ae9d-bc11c61ca202",
   "metadata": {},
   "outputs": [],
   "source": [
    "#first the ligans i have don't have hydrogens, so first protonate\n",
    "!obabel -isdf 6q4d_B_HHT.sdf -osdf -O Bh.sdf -h"
   ]
  },
  {
   "cell_type": "code",
   "execution_count": null,
   "id": "271746bd-07d7-4a08-a722-34c5eab26395",
   "metadata": {},
   "outputs": [],
   "source": [
    "#SDF edit method\n",
    "#for some reason obabel replaces BR with *, and i can't get rdkit to show Hs - so just changing all H's to * so they are displayed with indexes\n",
    "with open('Bh.sdf') as f:\n",
    "    newText=f.read().replace('*', 'BR').replace('H', '*')\n",
    "\n",
    "with open('Bh2.sdf', \"w\") as f:\n",
    "    f.write(newText)"
   ]
  },
  {
   "cell_type": "code",
   "execution_count": 5,
   "id": "9bf7d1b1-9b89-44fd-b81e-770b2abbae64",
   "metadata": {},
   "outputs": [],
   "source": [
    "def mol_with_atom_index(mol):\n",
    "    atoms = mol.GetNumAtoms()\n",
    "    tmp_mol = Chem.Mol(mol)\n",
    "    for idx in range(atoms):\n",
    "        tmp_mol.GetAtomWithIdx(idx).SetProp('molAtomMapNumber', str(tmp_mol.GetAtomWithIdx(idx).GetIdx()))\n",
    "    return tmp_mol"
   ]
  },
  {
   "cell_type": "code",
   "execution_count": 6,
   "id": "8f1bf253-e3de-40d1-9a82-1bb7f3868daa",
   "metadata": {},
   "outputs": [],
   "source": [
    "def atom_sub(rdkit_mol: Chem.Mol, target_idx: int, new_atom: int) -> Chem.Mol:\n",
    "    edit_mol = Chem.RWMol(rdkit_mol)\n",
    "    for atom in edit_mol.GetAtoms():\n",
    "        if atom.GetIdx() == target_idx:\n",
    "            atom.SetAtomicNum(new_atom)\n",
    "    return Chem.Mol(edit_mol)"
   ]
  },
  {
   "cell_type": "code",
   "execution_count": 7,
   "id": "f04a6493-1220-4ee6-912e-93bdacb0fff1",
   "metadata": {},
   "outputs": [],
   "source": [
    "def to2d(x):\n",
    "  '''Remove 3d coordinate info from a rdkit mol for display purposes.'''\n",
    "  return Chem.MolFromSmiles(Chem.MolToSmiles(x, isomericSmiles=False))"
   ]
  },
  {
   "cell_type": "code",
   "execution_count": 8,
   "id": "44dcfb31-07bd-4805-9788-c8e351f79fa5",
   "metadata": {},
   "outputs": [
    {
     "data": {
      "image/png": "[encoded data removed]",
      "text/plain": [
       "<rdkit.Chem.rdchem.Mol at 0x7f7aab7de068>"
      ]
     },
     "execution_count": 8,
     "metadata": {},
     "output_type": "execute_result"
    }
   ],
   "source": [
    "from rdkit.Chem import rdmolops\n",
    "\n",
    "lig = Chem.MolFromMolFile('./Bh2.sdf')\n",
    "mol_with_atom_index(to2d(lig))"
   ]
  },
  {
   "cell_type": "code",
   "execution_count": 9,
   "id": "8aa2975c-9776-457c-99ec-722cebbcbde3",
   "metadata": {},
   "outputs": [
    {
     "data": {
      "image/png": "[encoded data removed]",
      "text/plain": [
       "<rdkit.Chem.rdchem.Mol at 0x7f7aaaee4a40>"
      ]
     },
     "execution_count": 9,
     "metadata": {},
     "output_type": "execute_result"
    }
   ],
   "source": [
    "#testing random indexes to see what is what, e.g. 10 is BR since BR is on the 10th line in the SDF file\n",
    "#replaces BR with H, and Hs arent displayed\n",
    "#rdkit index for BR is 13\n",
    "mol_with_atom_index(to2d(atom_sub(lig, 10, 1)))"
   ]
  },
  {
   "cell_type": "code",
   "execution_count": null,
   "id": "923385e0-6a30-4c7c-918e-d8764e00242c",
   "metadata": {},
   "outputs": [],
   "source": [
    "#non SDF edit method\n",
    "\n",
    "#replaces halogen with H\n",
    "match = Chem.MolFromSmarts('[Br]')\n",
    "repl = Chem.MolFromSmarts('[H]')\n",
    "new_mol = Chem.ReplaceSubstructs(lig, match, repl)\n",
    "new_molH = new_mol[0]\n",
    "\n",
    "#removes Hs\n",
    "new_mol = Chem.RemoveHs(new_molH)\n",
    "new_mol\n",
    "\n",
    "\n",
    "\n",
    "#combines wildcard with molecule, represented in 2D\n",
    "combo = Chem.CombineMols(Chem.MolFromSmiles(\"*\"), new_mol)\n",
    "combo_2d = Chem.Mol(combo)\n",
    "_ = AllChem.Compute2DCoords(combo_2d)\n",
    "mol_with_atom_index(combo_2d)"
   ]
  },
  {
   "cell_type": "code",
   "execution_count": null,
   "id": "3d7b7372-9cd6-45ec-b5c3-27e24806eeaf",
   "metadata": {},
   "outputs": [],
   "source": [
    "#atm_idx selects where the exit vector will be\n",
    "atm_idx = 2\n",
    "exit_vector = 0\n",
    "edcombo = Chem.EditableMol(combo)\n",
    "num_heavy_atoms = combo.GetNumHeavyAtoms()\n",
    "edcombo.AddBond(atm_idx, exit_vector, order=Chem.rdchem.BondType.ZERO)\n",
    "editedmol = edcombo.GetMol()\n",
    "Chem.SanitizeMol(editedmol)\n",
    "combo_2d = Chem.Mol(editedmol)\n",
    "_ = AllChem.Compute2DCoords(combo_2d)\n",
    "lig_new = mol_with_atom_index(combo_2d)\n",
    "lig_list = [lig_new,lig_new]\n",
    "mol_with_atom_index(combo_2d)"
   ]
  },
  {
   "cell_type": "code",
   "execution_count": null,
   "id": "d6463bb1-e86a-4938-ac7d-4dc1df469702",
   "metadata": {},
   "outputs": [],
   "source": [
    "The problem with this method is that any added atom has no 3D information, and so is added at (0,0,0)"
   ]
  },
  {
   "cell_type": "code",
   "execution_count": null,
   "id": "d809ebb6-e900-40ae-94e4-5dedaafc300d",
   "metadata": {},
   "outputs": [],
   "source": [
    "So the SDF edit method has problems with finding out the index of the atom you want to swap, and the pure rdkit method has issues with added atoms not containing any 3d information. help."
   ]
  }
 ],
 "metadata": {
  "kernelspec": {
   "display_name": "Deepfrag",
   "language": "python",
   "name": "deepfrag"
  },
  "language_info": {
   "codemirror_mode": {
    "name": "ipython",
    "version": 3
   },
   "file_extension": ".py",
   "mimetype": "text/x-python",
   "name": "python",
   "nbconvert_exporter": "python",
   "pygments_lexer": "ipython3",
   "version": "3.6.7"
  }
 },
 "nbformat": 4,
 "nbformat_minor": 5
}
